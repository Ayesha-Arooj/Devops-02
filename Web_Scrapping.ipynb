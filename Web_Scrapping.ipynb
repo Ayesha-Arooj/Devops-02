{
 "cells": [
  {
   "cell_type": "code",
   "execution_count": 23,
   "id": "9d699798",
   "metadata": {},
   "outputs": [
    {
     "name": "stdout",
     "output_type": "stream",
     "text": [
      "lahore 28 °C Smoke\n"
     ]
    }
   ],
   "source": [
    "from requests_html import HTMLSession\n",
    "\n",
    "s = HTMLSession()\n",
    "\n",
    "query = 'lahore'\n",
    "url = f'https://www.google.com/search?q=weather+{query}'\n",
    "headers = {'User-Agent': 'Mozilla/5.0 (Windows NT 10.0; Win64; x64) AppleWebKit/537.36 (KHTML, like Gecko) Chrome/118.0.0.0 Safari/537.36'}\n",
    "r = s.get(url, headers=headers)\n",
    "\n",
    "#print(r.html.find('title', first=True).text)\n",
    "\n",
    "temp = r.html.find('span#wob_tm', first=True).text\n",
    "unit = r.html.find('div.vk_bk.wob-unit span.wob_t', first=True).text\n",
    "desc = r.html.find('div.VQF4g' , first=True).find('span#wob_dc' , first=True).text\n",
    "#Adding desc 2\n",
    "desc2 = r.html.find('div.VQF4g' , first=True).find('span#wob_dc' , first=True).text\n",

    "\n",
    "print(query, temp, unit, desc)"
    "#I want to know the karachi weather\n",
"\n",
    "query = 'lahore'\n",
    "url = f'https://www.google.com/search?q=weather+{query}'\n",
    "headers = {'User-Agent': 'Mozilla/5.0 (Windows NT 10.0; Win64; x64) AppleWebKit/537.36 (KHTML, like Gecko) Chrome/118.0.0.0 Safari/537.36'}\n",
    "r = s.get(url, headers=headers)\n",
    "\n",
    "#print(r.html.find('title', first=True).text)\n",
    "\n",
    "temp = r.html.find('span#wob_tm', first=True).text\n",
    "unit = r.html.find('div.vk_bk.wob-unit span.wob_t', first=True).text\n",
    "desc = r.html.find('div.VQF4g' , first=True).find('span#wob_dc' , first=True).text\n",

    "\n",
    "print(query, temp, unit, desc)"
   ]
  },
  {
   "cell_type": "code",
   "execution_count": null,
   "id": "a078fa4d",
   "metadata": {},
   "outputs": [],
   "source": []
  },
  {
   "cell_type": "code",
   "execution_count": null,
   "id": "1086bdd1",
   "metadata": {},
   "outputs": [],
   "source": []
  }
 ],
 "metadata": {
  "kernelspec": {
   "display_name": "Python 3 (ipykernel)",
   "language": "python",
   "name": "python3"
  },
  "language_info": {
   "codemirror_mode": {
    "name": "ipython",
    "version": 3
   },
   "file_extension": ".py",
   "mimetype": "text/x-python",
   "name": "python",
   "nbconvert_exporter": "python",
   "pygments_lexer": "ipython3",
   "version": "3.11.5"
  }
 },
 "nbformat": 4,
 "nbformat_minor": 5
}
